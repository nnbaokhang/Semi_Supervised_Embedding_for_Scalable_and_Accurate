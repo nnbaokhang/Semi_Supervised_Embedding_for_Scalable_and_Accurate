{
 "cells": [
  {
   "cell_type": "code",
   "execution_count": 2,
   "metadata": {},
   "outputs": [
    {
     "name": "stdout",
     "output_type": "stream",
     "text": [
      "Converting CSV to tab-delimited file...\n",
      "Conversion complete.\n"
     ]
    }
   ],
   "source": [
    "import csv\n",
    "import sys\n",
    "import os\n",
    "\n",
    "# Convert comma-delimited CSV files to pipe-delimited files\n",
    "# Usage: Drag-and-drop CSV file over script to convert it.\n",
    "\n",
    "inputPath = \"CDOT_TEST.tsv\"\n",
    "outputPath = \"output.csv\"\n",
    "\n",
    "# https://stackoverflow.com/a/27553098/3357935\n",
    "print(\"Converting CSV to tab-delimited file...\")\n",
    "with open(inputPath) as inputFile:\n",
    "\twith open(outputPath, 'w', newline='') as outputFile:\n",
    "\t\treader = csv.DictReader(inputFile, delimiter=',')\n",
    "\t\twriter = csv.DictWriter(outputFile, reader.fieldnames, delimiter='\t')\n",
    "\t\twriter.writeheader()\n",
    "\t\twriter.writerows(reader)\n",
    "print(\"Conversion complete.\")"
   ]
  },
  {
   "cell_type": "code",
   "execution_count": null,
   "metadata": {},
   "outputs": [],
   "source": []
  }
 ],
 "metadata": {
  "kernelspec": {
   "display_name": "Python 3",
   "language": "python",
   "name": "python3"
  },
  "language_info": {
   "codemirror_mode": {
    "name": "ipython",
    "version": 3
   },
   "file_extension": ".py",
   "mimetype": "text/x-python",
   "name": "python",
   "nbconvert_exporter": "python",
   "pygments_lexer": "ipython3",
   "version": "3.8.2"
  }
 },
 "nbformat": 4,
 "nbformat_minor": 4
}
